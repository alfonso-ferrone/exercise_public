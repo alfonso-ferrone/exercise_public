{
 "cells": [
  {
   "cell_type": "markdown",
   "id": "29dd8fba-1e7a-422b-905c-4e999e70311f",
   "metadata": {},
   "source": [
    "# Creation of the virtual environment\n",
    "\n",
    "Noto provides a basic installation of python. To complete the exercise, we need a few extra libraries.\n",
    "\n",
    "We will install them in a virtual environment."
   ]
  },
  {
   "cell_type": "code",
   "execution_count": null,
   "id": "2ba55834-eef1-4889-885d-c06848a9f0df",
   "metadata": {},
   "outputs": [],
   "source": [
    "# Creating the virtual environment\n",
    "python3 -m venv /home/my_venvs/atm_proc --system-site-package"
   ]
  },
  {
   "cell_type": "code",
   "execution_count": null,
   "id": "0ca871ab-ad68-418c-90ab-9b4de5b71719",
   "metadata": {},
   "outputs": [],
   "source": [
    "# Once the environment has been created, we can activate it\n",
    "source /home/my_venvs/atm_proc/bin/activate"
   ]
  },
  {
   "cell_type": "markdown",
   "id": "a283b02e-451f-44ac-bd01-d3fab4e1325c",
   "metadata": {},
   "source": [
    "# Installation of the python libraries"
   ]
  },
  {
   "cell_type": "code",
   "execution_count": null,
   "id": "bc14def7-9c22-4bfd-ab3f-2cdf2b0863f2",
   "metadata": {},
   "outputs": [],
   "source": [
    "# NetCDF allows us to read the radar data\n",
    "pip3 install netCDF4"
   ]
  },
  {
   "cell_type": "code",
   "execution_count": null,
   "id": "8b317f6c-8164-4088-b683-79134add1bb3",
   "metadata": {},
   "outputs": [],
   "source": [
    "# PyART is a library specifically designed to analyze radar data\n",
    "pip3 install arm-pyart"
   ]
  },
  {
   "cell_type": "code",
   "execution_count": null,
   "id": "882ea616-e5aa-4330-9284-35406f8c496f",
   "metadata": {},
   "outputs": [],
   "source": [
    "# wrf-python is a library that allows us to load, display and perform simple processing of the output files from WRF simulations\n",
    "pip3 install wrf-python"
   ]
  },
  {
   "cell_type": "code",
   "execution_count": null,
   "id": "79dfd159-9548-4b9d-bb55-c0ed1518bb7f",
   "metadata": {},
   "outputs": [],
   "source": [
    "# Metpy helps us in reading, visualizing and performing simple analyses with weather data\n",
    "pip3 install metpy"
   ]
  }
 ],
 "metadata": {
  "kernelspec": {
   "display_name": "Bash",
   "language": "bash",
   "name": "bash"
  },
  "language_info": {
   "codemirror_mode": "shell",
   "file_extension": ".sh",
   "mimetype": "text/x-sh",
   "name": "bash"
  }
 },
 "nbformat": 4,
 "nbformat_minor": 5
}
