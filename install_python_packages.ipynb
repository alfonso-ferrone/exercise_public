{
 "cells": [
  {
   "cell_type": "markdown",
   "id": "f05bd5ed-e119-44a2-811f-693a553ff836",
   "metadata": {},
   "source": [
    "## Installation of the python packages needed for the exercise and the project\n",
    "\n",
    "This notebook contains all the commands we used to install the various packages.\n",
    "You don't need to run any of it as long as you work on noto, since the installation has already been made.\n",
    "\n",
    "However, if you want to install it on your personal laptop, you can copy most of the commands and execute them on your terminal, making sure that you don't have errors in the output."
   ]
  },
  {
   "cell_type": "markdown",
   "id": "04330072-a07a-49a6-981c-b838818cc3c3",
   "metadata": {},
   "source": [
    "### 1) The environment\n",
    "\n",
    "We installed a virtual environment called atm_proc. Let us activate it:"
   ]
  },
  {
   "cell_type": "code",
   "execution_count": 1,
   "id": "ca447572-64c0-41e3-b170-f76d6736a6a0",
   "metadata": {},
   "outputs": [],
   "source": [
    "!/usr/bin/python3 -m venv /home/my_venvs/atm_proc --s£ystem-site-packages"
   ]
  },
  {
   "cell_type": "markdown",
   "id": "481d735d-888b-418d-8a88-a68d83150697",
   "metadata": {},
   "source": [
    "### 2) Installing the packages\n",
    "\n",
    "Here are all the packages we will need on the virtual machine"
   ]
  },
  {
   "cell_type": "code",
   "execution_count": 4,
   "id": "addddc53-66f6-46e8-a0aa-925fdc172741",
   "metadata": {},
   "outputs": [
    {
     "name": "stdout",
     "output_type": "stream",
     "text": [
      "Defaulting to user installation because normal site-packages is not writeable\n",
      "Collecting netCDF4\n",
      "  Downloading netCDF4-1.6.1-cp38-cp38-manylinux_2_17_x86_64.manylinux2014_x86_64.whl (5.1 MB)\n",
      "\u001b[2K     \u001b[90m━━━━━━━━━━━━━━━━━━━━━━━━━━━━━━━━━━━━━━━━\u001b[0m \u001b[32m5.1/5.1 MB\u001b[0m \u001b[31m17.2 MB/s\u001b[0m eta \u001b[36m0:00:00\u001b[0m00:01\u001b[0m00:01\u001b[0m\n",
      "\u001b[?25hRequirement already satisfied: numpy>=1.9 in /usr/local/lib/python3.8/dist-packages (from netCDF4) (1.22.4)\n",
      "Collecting cftime\n",
      "  Downloading cftime-1.6.2-cp38-cp38-manylinux_2_17_x86_64.manylinux2014_x86_64.whl (1.3 MB)\n",
      "\u001b[2K     \u001b[90m━━━━━━━━━━━━━━━━━━━━━━━━━━━━━━━━━━━━━━━━\u001b[0m \u001b[32m1.3/1.3 MB\u001b[0m \u001b[31m8.2 MB/s\u001b[0m eta \u001b[36m0:00:00\u001b[0m0:00:01\u001b[0m\n",
      "\u001b[?25hInstalling collected packages: cftime, netCDF4\n",
      "\u001b[33m  WARNING: The scripts nc3tonc4, nc4tonc3 and ncinfo are installed in '/home/.local/bin' which is not on PATH.\n",
      "  Consider adding this directory to PATH or, if you prefer to suppress this warning, use --no-warn-script-location.\u001b[0m\u001b[33m\n",
      "\u001b[0mSuccessfully installed cftime-1.6.2 netCDF4-1.6.1\n"
     ]
    }
   ],
   "source": [
    "# NetCDF allows us to read the radar data\n",
    "!pip3 install netCDF4"
   ]
  },
  {
   "cell_type": "code",
   "execution_count": 2,
   "id": "ecb699ea-ae1e-4a24-a102-76c47372462f",
   "metadata": {},
   "outputs": [],
   "source": [
    "# Testing the installation of netCDF4\n",
    "import netCDF4 as nc"
   ]
  },
  {
   "cell_type": "code",
   "execution_count": 8,
   "id": "25877ed2-d021-457c-8ef6-9c027179f90e",
   "metadata": {},
   "outputs": [
    {
     "name": "stdout",
     "output_type": "stream",
     "text": [
      "Defaulting to user installation because normal site-packages is not writeable\n",
      "Collecting arm-pyart\n",
      "  Downloading arm_pyart-1.13.2-cp38-cp38-manylinux_2_17_x86_64.manylinux2014_x86_64.whl (12.9 MB)\n",
      "\u001b[2K     \u001b[90m━━━━━━━━━━━━━━━━━━━━━━━━━━━━━━━━━━━━━━━━\u001b[0m \u001b[32m12.9/12.9 MB\u001b[0m \u001b[31m30.4 MB/s\u001b[0m eta \u001b[36m0:00:00\u001b[0m00:01\u001b[0m0:01\u001b[0m\n",
      "\u001b[?25hRequirement already satisfied: fsspec in /usr/local/lib/python3.8/dist-packages (from arm-pyart) (2022.8.2)\n",
      "Requirement already satisfied: Cython in /usr/local/lib/python3.8/dist-packages (from arm-pyart) (0.29.32)\n",
      "Collecting pooch\n",
      "  Downloading pooch-1.6.0-py3-none-any.whl (56 kB)\n",
      "\u001b[2K     \u001b[90m━━━━━━━━━━━━━━━━━━━━━━━━━━━━━━━━━━━━━━━━\u001b[0m \u001b[32m56.3/56.3 kB\u001b[0m \u001b[31m1.0 MB/s\u001b[0m eta \u001b[36m0:00:00\u001b[0mta \u001b[36m0:00:01\u001b[0m\n",
      "\u001b[?25hRequirement already satisfied: numpy in /usr/local/lib/python3.8/dist-packages (from arm-pyart) (1.22.4)\n",
      "Requirement already satisfied: xarray!=0.21.0 in /usr/local/lib/python3.8/dist-packages (from arm-pyart) (2022.3.0)\n",
      "Requirement already satisfied: cftime in /home/.local/lib/python3.8/site-packages (from arm-pyart) (1.6.2)\n",
      "Requirement already satisfied: scipy in /usr/local/lib/python3.8/dist-packages (from arm-pyart) (1.9.1)\n",
      "Requirement already satisfied: matplotlib in /usr/local/lib/python3.8/dist-packages (from arm-pyart) (3.5.3)\n",
      "Collecting s3fs\n",
      "  Downloading s3fs-2022.8.2-py3-none-any.whl (27 kB)\n",
      "Requirement already satisfied: netCDF4 in /home/.local/lib/python3.8/site-packages (from arm-pyart) (1.6.1)\n",
      "Requirement already satisfied: packaging>=20.0 in /usr/local/lib/python3.8/dist-packages (from xarray!=0.21.0->arm-pyart) (21.3)\n",
      "Requirement already satisfied: pandas>=1.1 in /usr/local/lib/python3.8/dist-packages (from xarray!=0.21.0->arm-pyart) (1.4.3)\n",
      "Requirement already satisfied: pillow>=6.2.0 in /usr/local/lib/python3.8/dist-packages (from matplotlib->arm-pyart) (9.2.0)\n",
      "Requirement already satisfied: fonttools>=4.22.0 in /usr/local/lib/python3.8/dist-packages (from matplotlib->arm-pyart) (4.37.1)\n",
      "Requirement already satisfied: kiwisolver>=1.0.1 in /usr/local/lib/python3.8/dist-packages (from matplotlib->arm-pyart) (1.4.3)\n",
      "Requirement already satisfied: python-dateutil>=2.7 in /usr/local/lib/python3.8/dist-packages (from matplotlib->arm-pyart) (2.8.2)\n",
      "Requirement already satisfied: pyparsing>=2.2.1 in /usr/local/lib/python3.8/dist-packages (from matplotlib->arm-pyart) (3.0.9)\n",
      "Requirement already satisfied: cycler>=0.10 in /usr/local/lib/python3.8/dist-packages (from matplotlib->arm-pyart) (0.11.0)\n",
      "Requirement already satisfied: requests>=2.19.0 in /usr/local/lib/python3.8/dist-packages (from pooch->arm-pyart) (2.28.1)\n",
      "Requirement already satisfied: appdirs>=1.3.0 in /usr/local/lib/python3.8/dist-packages (from pooch->arm-pyart) (1.4.4)\n",
      "Collecting aiobotocore~=2.4.0\n",
      "  Downloading aiobotocore-2.4.0-py3-none-any.whl (65 kB)\n",
      "\u001b[2K     \u001b[90m━━━━━━━━━━━━━━━━━━━━━━━━━━━━━━━━━━━━━━━\u001b[0m \u001b[32m65.8/65.8 kB\u001b[0m \u001b[31m642.0 kB/s\u001b[0m eta \u001b[36m0:00:00\u001b[0ma \u001b[36m0:00:01\u001b[0m\n",
      "\u001b[?25hRequirement already satisfied: aiohttp!=4.0.0a0,!=4.0.0a1 in /usr/local/lib/python3.8/dist-packages (from s3fs->arm-pyart) (3.8.1)\n",
      "Collecting aioitertools>=0.5.1\n",
      "  Downloading aioitertools-0.11.0-py3-none-any.whl (23 kB)\n",
      "Requirement already satisfied: wrapt>=1.10.10 in /usr/local/lib/python3.8/dist-packages (from aiobotocore~=2.4.0->s3fs->arm-pyart) (1.14.1)\n",
      "Collecting botocore<1.27.60,>=1.27.59\n",
      "  Downloading botocore-1.27.59-py3-none-any.whl (9.1 MB)\n",
      "\u001b[2K     \u001b[90m━━━━━━━━━━━━━━━━━━━━━━━━━━━━━━━━━━━━━━━━\u001b[0m \u001b[32m9.1/9.1 MB\u001b[0m \u001b[31m34.6 MB/s\u001b[0m eta \u001b[36m0:00:00\u001b[0m:00:01\u001b[0m00:01\u001b[0m\n",
      "\u001b[?25hRequirement already satisfied: async-timeout<5.0,>=4.0.0a3 in /usr/local/lib/python3.8/dist-packages (from aiohttp!=4.0.0a0,!=4.0.0a1->s3fs->arm-pyart) (4.0.2)\n",
      "Requirement already satisfied: multidict<7.0,>=4.5 in /usr/local/lib/python3.8/dist-packages (from aiohttp!=4.0.0a0,!=4.0.0a1->s3fs->arm-pyart) (6.0.2)\n",
      "Requirement already satisfied: aiosignal>=1.1.2 in /usr/local/lib/python3.8/dist-packages (from aiohttp!=4.0.0a0,!=4.0.0a1->s3fs->arm-pyart) (1.2.0)\n",
      "Requirement already satisfied: attrs>=17.3.0 in /usr/lib/python3/dist-packages (from aiohttp!=4.0.0a0,!=4.0.0a1->s3fs->arm-pyart) (19.3.0)\n",
      "Requirement already satisfied: frozenlist>=1.1.1 in /usr/local/lib/python3.8/dist-packages (from aiohttp!=4.0.0a0,!=4.0.0a1->s3fs->arm-pyart) (1.3.0)\n",
      "Requirement already satisfied: yarl<2.0,>=1.0 in /usr/local/lib/python3.8/dist-packages (from aiohttp!=4.0.0a0,!=4.0.0a1->s3fs->arm-pyart) (1.7.2)\n",
      "Requirement already satisfied: charset-normalizer<3.0,>=2.0 in /usr/local/lib/python3.8/dist-packages (from aiohttp!=4.0.0a0,!=4.0.0a1->s3fs->arm-pyart) (2.1.1)\n",
      "Requirement already satisfied: pytz>=2020.1 in /usr/local/lib/python3.8/dist-packages (from pandas>=1.1->xarray!=0.21.0->arm-pyart) (2022.1)\n",
      "Requirement already satisfied: six>=1.5 in /usr/lib/python3/dist-packages (from python-dateutil>=2.7->matplotlib->arm-pyart) (1.14.0)\n",
      "Requirement already satisfied: urllib3<1.27,>=1.21.1 in /usr/local/lib/python3.8/dist-packages (from requests>=2.19.0->pooch->arm-pyart) (1.26.12)\n",
      "Requirement already satisfied: idna<4,>=2.5 in /usr/local/lib/python3.8/dist-packages (from requests>=2.19.0->pooch->arm-pyart) (3.3)\n",
      "Requirement already satisfied: certifi>=2017.4.17 in /usr/local/lib/python3.8/dist-packages (from requests>=2.19.0->pooch->arm-pyart) (2022.6.15)\n",
      "Requirement already satisfied: typing_extensions>=4.0 in /usr/local/lib/python3.8/dist-packages (from aioitertools>=0.5.1->aiobotocore~=2.4.0->s3fs->arm-pyart) (4.3.0)\n",
      "Collecting jmespath<2.0.0,>=0.7.1\n",
      "  Downloading jmespath-1.0.1-py3-none-any.whl (20 kB)\n",
      "Installing collected packages: jmespath, aioitertools, pooch, botocore, aiobotocore, s3fs, arm-pyart\n",
      "Successfully installed aiobotocore-2.4.0 aioitertools-0.11.0 arm-pyart-1.13.2 botocore-1.27.59 jmespath-1.0.1 pooch-1.6.0 s3fs-2022.8.2\n"
     ]
    }
   ],
   "source": [
    "# PyART is a library specifically designed to analyze radar data\n",
    "!pip3 install arm-pyart"
   ]
  },
  {
   "cell_type": "code",
   "execution_count": 6,
   "id": "5ea0b7cd-d6f9-462c-9e66-ea212f42f218",
   "metadata": {},
   "outputs": [
    {
     "name": "stdout",
     "output_type": "stream",
     "text": [
      "\n",
      "## You are using the Python ARM Radar Toolkit (Py-ART), an open source\n",
      "## library for working with weather radar data. Py-ART is partly\n",
      "## supported by the U.S. Department of Energy as part of the Atmospheric\n",
      "## Radiation Measurement (ARM) Climate Research Facility, an Office of\n",
      "## Science user facility.\n",
      "##\n",
      "## If you use this software to prepare a publication, please cite:\n",
      "##\n",
      "##     JJ Helmus and SM Collis, JORS 2016, doi: 10.5334/jors.119\n",
      "\n"
     ]
    },
    {
     "name": "stderr",
     "output_type": "stream",
     "text": [
      "/usr/local/lib/python3.8/dist-packages/distributed/preloading.py:15: DeprecationWarning: 'urllib3[secure]' extra is deprecated and will be removed in a future release of urllib3 2.x. Read more in this issue: https://github.com/urllib3/urllib3/issues/2680\n",
      "  import urllib3\n"
     ]
    }
   ],
   "source": [
    "# Testing the installation of arm-pyart\n",
    "import pyart"
   ]
  },
  {
   "cell_type": "code",
   "execution_count": 13,
   "id": "94a2d1fb-6e68-4c9d-a23d-3c55eec8da72",
   "metadata": {},
   "outputs": [
    {
     "name": "stdout",
     "output_type": "stream",
     "text": [
      "Defaulting to user installation because normal site-packages is not writeable\n",
      "Collecting wrf-python\n",
      "  Downloading wrf-python-1.3.4.1.tar.gz (1.1 MB)\n",
      "\u001b[2K     \u001b[90m━━━━━━━━━━━━━━━━━━━━━━━━━━━━━━━━━━━━━━━━\u001b[0m \u001b[32m1.1/1.1 MB\u001b[0m \u001b[31m6.7 MB/s\u001b[0m eta \u001b[36m0:00:00\u001b[0m:00:01\u001b[0m00:01\u001b[0m\n",
      "\u001b[?25h  Preparing metadata (setup.py) ... \u001b[?25ldone\n",
      "\u001b[?25hCollecting basemap\n",
      "  Downloading basemap-1.3.4-cp38-cp38-manylinux1_x86_64.whl (864 kB)\n",
      "\u001b[2K     \u001b[90m━━━━━━━━━━━━━━━━━━━━━━━━━━━━━━━━━━━━━━━\u001b[0m \u001b[32m864.1/864.1 kB\u001b[0m \u001b[31m4.9 MB/s\u001b[0m eta \u001b[36m0:00:00\u001b[0m00:01\u001b[0m\n",
      "\u001b[?25hRequirement already satisfied: numpy>=1.11 in /usr/local/lib/python3.8/dist-packages (from wrf-python) (1.22.4)\n",
      "Requirement already satisfied: setuptools in /usr/local/lib/python3.8/dist-packages (from wrf-python) (65.3.0)\n",
      "Requirement already satisfied: wrapt in /usr/local/lib/python3.8/dist-packages (from wrf-python) (1.14.1)\n",
      "Requirement already satisfied: xarray in /usr/local/lib/python3.8/dist-packages (from wrf-python) (2022.3.0)\n",
      "Collecting basemap-data<1.4,>=1.3.2\n",
      "  Downloading basemap_data-1.3.2-py2.py3-none-any.whl (30.5 MB)\n",
      "\u001b[2K     \u001b[90m━━━━━━━━━━━━━━━━━━━━━━━━━━━━━━━━━━━━━━━━\u001b[0m \u001b[32m30.5/30.5 MB\u001b[0m \u001b[31m17.9 MB/s\u001b[0m eta \u001b[36m0:00:00\u001b[0m00:01\u001b[0m00:01\u001b[0m\n",
      "\u001b[?25hRequirement already satisfied: pyproj<3.4.0,>=1.9.3 in /usr/local/lib/python3.8/dist-packages (from basemap->wrf-python) (3.3.1)\n",
      "Requirement already satisfied: matplotlib<3.6,>=1.5 in /usr/local/lib/python3.8/dist-packages (from basemap->wrf-python) (3.5.3)\n",
      "Requirement already satisfied: pyshp<2.4,>=1.2 in /usr/local/lib/python3.8/dist-packages (from basemap->wrf-python) (2.3.0)\n",
      "Requirement already satisfied: packaging>=20.0 in /usr/local/lib/python3.8/dist-packages (from xarray->wrf-python) (21.3)\n",
      "Requirement already satisfied: pandas>=1.1 in /usr/local/lib/python3.8/dist-packages (from xarray->wrf-python) (1.4.3)\n",
      "Requirement already satisfied: kiwisolver>=1.0.1 in /usr/local/lib/python3.8/dist-packages (from matplotlib<3.6,>=1.5->basemap->wrf-python) (1.4.3)\n",
      "Requirement already satisfied: python-dateutil>=2.7 in /usr/local/lib/python3.8/dist-packages (from matplotlib<3.6,>=1.5->basemap->wrf-python) (2.8.2)\n",
      "Requirement already satisfied: cycler>=0.10 in /usr/local/lib/python3.8/dist-packages (from matplotlib<3.6,>=1.5->basemap->wrf-python) (0.11.0)\n",
      "Requirement already satisfied: pillow>=6.2.0 in /usr/local/lib/python3.8/dist-packages (from matplotlib<3.6,>=1.5->basemap->wrf-python) (9.2.0)\n",
      "Requirement already satisfied: fonttools>=4.22.0 in /usr/local/lib/python3.8/dist-packages (from matplotlib<3.6,>=1.5->basemap->wrf-python) (4.37.1)\n",
      "Requirement already satisfied: pyparsing>=2.2.1 in /usr/local/lib/python3.8/dist-packages (from matplotlib<3.6,>=1.5->basemap->wrf-python) (3.0.9)\n",
      "Requirement already satisfied: pytz>=2020.1 in /usr/local/lib/python3.8/dist-packages (from pandas>=1.1->xarray->wrf-python) (2022.1)\n",
      "Requirement already satisfied: certifi in /usr/local/lib/python3.8/dist-packages (from pyproj<3.4.0,>=1.9.3->basemap->wrf-python) (2022.6.15)\n",
      "Requirement already satisfied: six>=1.5 in /usr/lib/python3/dist-packages (from python-dateutil>=2.7->matplotlib<3.6,>=1.5->basemap->wrf-python) (1.14.0)\n",
      "Building wheels for collected packages: wrf-python\n",
      "  Building wheel for wrf-python (setup.py) ... \u001b[?25ldone\n",
      "\u001b[?25h  Created wheel for wrf-python: filename=wrf_python-1.3.4.1-cp38-cp38-linux_x86_64.whl size=651874 sha256=4d9d8de19f2b0d6a94a8064f2b11df0afba413522be8c855f468b72c45b1c6b0\n",
      "  Stored in directory: /home/.cache/pip/wheels/51/76/22/e1ce4fb185668d7504343add25758349f1c84c9f66580c3b38\n",
      "Successfully built wrf-python\n",
      "Installing collected packages: basemap-data, basemap, wrf-python\n",
      "Successfully installed basemap-1.3.4 basemap-data-1.3.2 wrf-python-1.3.4.1\n"
     ]
    }
   ],
   "source": [
    "# wrf-python is a library that allows us to load, display and perform simple processing of the output files from WRF simulations\n",
    "!pip install wrf-python"
   ]
  },
  {
   "cell_type": "code",
   "execution_count": 15,
   "id": "fec3857f-9b5f-45e5-b0e1-12223c34829e",
   "metadata": {},
   "outputs": [],
   "source": [
    "# Testing the installation of wrf-python\n",
    "import wrf"
   ]
  },
  {
   "cell_type": "code",
   "execution_count": 1,
   "id": "cc1433d7-653b-4434-a2f5-0fc39686e326",
   "metadata": {},
   "outputs": [
    {
     "name": "stdout",
     "output_type": "stream",
     "text": [
      "Defaulting to user installation because normal site-packages is not writeable\n",
      "Collecting metpy\n",
      "  Downloading MetPy-1.3.1-py3-none-any.whl (368 kB)\n",
      "\u001b[2K     \u001b[90m━━━━━━━━━━━━━━━━━━━━━━━━━━━━━━━━━━━━━━━\u001b[0m \u001b[32m368.9/368.9 kB\u001b[0m \u001b[31m2.1 MB/s\u001b[0m eta \u001b[36m0:00:00\u001b[0m00:01\u001b[0m00:01\u001b[0m\n",
      "\u001b[?25hRequirement already satisfied: importlib-resources>=1.3.0 in /usr/local/lib/python3.8/dist-packages (from metpy) (5.8.0)\n",
      "Requirement already satisfied: traitlets>=4.3.0 in /usr/local/lib/python3.8/dist-packages (from metpy) (5.1.1)\n",
      "Requirement already satisfied: scipy>=1.4.0 in /usr/local/lib/python3.8/dist-packages (from metpy) (1.9.1)\n",
      "Requirement already satisfied: numpy>=1.18.0 in /usr/local/lib/python3.8/dist-packages (from metpy) (1.22.4)\n",
      "Requirement already satisfied: matplotlib>=3.3.0 in /usr/local/lib/python3.8/dist-packages (from metpy) (3.5.3)\n",
      "Requirement already satisfied: pooch>=1.2.0 in /home/.local/lib/python3.8/site-packages (from metpy) (1.6.0)\n",
      "Requirement already satisfied: xarray>=0.14.1 in /usr/local/lib/python3.8/dist-packages (from metpy) (2022.3.0)\n",
      "Collecting pint>=0.10.1\n",
      "  Downloading Pint-0.19.2.tar.gz (292 kB)\n",
      "\u001b[2K     \u001b[90m━━━━━━━━━━━━━━━━━━━━━━━━━━━━━━━━━━━━━━━\u001b[0m \u001b[32m292.0/292.0 kB\u001b[0m \u001b[31m2.4 MB/s\u001b[0m eta \u001b[36m0:00:00\u001b[0m00:01\u001b[0m\n",
      "\u001b[?25h  Installing build dependencies ... \u001b[?25ldone\n",
      "\u001b[?25h  Getting requirements to build wheel ... \u001b[?25ldone\n",
      "\u001b[?25h  Preparing metadata (pyproject.toml) ... \u001b[?25ldone\n",
      "\u001b[?25hRequirement already satisfied: pyproj>=2.5.0 in /usr/local/lib/python3.8/dist-packages (from metpy) (3.3.1)\n",
      "Requirement already satisfied: pandas>=1.0.0 in /usr/local/lib/python3.8/dist-packages (from metpy) (1.4.3)\n",
      "Requirement already satisfied: zipp>=3.1.0 in /usr/local/lib/python3.8/dist-packages (from importlib-resources>=1.3.0->metpy) (3.8.1)\n",
      "Requirement already satisfied: packaging>=20.0 in /usr/local/lib/python3.8/dist-packages (from matplotlib>=3.3.0->metpy) (21.3)\n",
      "Requirement already satisfied: cycler>=0.10 in /usr/local/lib/python3.8/dist-packages (from matplotlib>=3.3.0->metpy) (0.11.0)\n",
      "Requirement already satisfied: kiwisolver>=1.0.1 in /usr/local/lib/python3.8/dist-packages (from matplotlib>=3.3.0->metpy) (1.4.3)\n",
      "Requirement already satisfied: pyparsing>=2.2.1 in /usr/local/lib/python3.8/dist-packages (from matplotlib>=3.3.0->metpy) (3.0.9)\n",
      "Requirement already satisfied: python-dateutil>=2.7 in /usr/local/lib/python3.8/dist-packages (from matplotlib>=3.3.0->metpy) (2.8.2)\n",
      "Requirement already satisfied: fonttools>=4.22.0 in /usr/local/lib/python3.8/dist-packages (from matplotlib>=3.3.0->metpy) (4.37.1)\n",
      "Requirement already satisfied: pillow>=6.2.0 in /usr/local/lib/python3.8/dist-packages (from matplotlib>=3.3.0->metpy) (9.2.0)\n",
      "Requirement already satisfied: pytz>=2020.1 in /usr/local/lib/python3.8/dist-packages (from pandas>=1.0.0->metpy) (2022.1)\n",
      "Requirement already satisfied: appdirs>=1.3.0 in /usr/local/lib/python3.8/dist-packages (from pooch>=1.2.0->metpy) (1.4.4)\n",
      "Requirement already satisfied: requests>=2.19.0 in /usr/local/lib/python3.8/dist-packages (from pooch>=1.2.0->metpy) (2.28.1)\n",
      "Requirement already satisfied: certifi in /usr/local/lib/python3.8/dist-packages (from pyproj>=2.5.0->metpy) (2022.6.15)\n",
      "Requirement already satisfied: six>=1.5 in /usr/lib/python3/dist-packages (from python-dateutil>=2.7->matplotlib>=3.3.0->metpy) (1.14.0)\n",
      "Requirement already satisfied: idna<4,>=2.5 in /usr/local/lib/python3.8/dist-packages (from requests>=2.19.0->pooch>=1.2.0->metpy) (3.3)\n",
      "Requirement already satisfied: charset-normalizer<3,>=2 in /usr/local/lib/python3.8/dist-packages (from requests>=2.19.0->pooch>=1.2.0->metpy) (2.1.1)\n",
      "Requirement already satisfied: urllib3<1.27,>=1.21.1 in /usr/local/lib/python3.8/dist-packages (from requests>=2.19.0->pooch>=1.2.0->metpy) (1.26.12)\n",
      "Building wheels for collected packages: pint\n",
      "  Building wheel for pint (pyproject.toml) ... \u001b[?25ldone\n",
      "\u001b[?25h  Created wheel for pint: filename=Pint-0.19.2-py3-none-any.whl size=231002 sha256=14f2c2d6970311f0c0b08f8a62ea7d5ffa59ba5705b919f58fd92356e32ca969\n",
      "  Stored in directory: /home/.cache/pip/wheels/67/78/8a/a5a238941bb7e4a1befa4fed0e39c7f9e1f174fb8f9bb19082\n",
      "Successfully built pint\n",
      "Installing collected packages: pint, metpy\n",
      "Successfully installed metpy-1.3.1 pint-0.19.2\n"
     ]
    }
   ],
   "source": [
    "# Metpy helps us in reading, visualizing and performing simple analyses with weather data\n",
    "!pip install metpy"
   ]
  },
  {
   "cell_type": "code",
   "execution_count": 2,
   "id": "7171c834-48c9-4aed-bfe0-39b40f321c0e",
   "metadata": {},
   "outputs": [],
   "source": [
    "# Testing the installation of metpy\n",
    "import metpy"
   ]
  },
  {
   "cell_type": "markdown",
   "id": "a759e123-d438-4570-a64d-2121cd8bd17f",
   "metadata": {},
   "source": [
    "### 3) Testing the packages available by default\n",
    "\n",
    "The followinf packages were already installed by default on noto."
   ]
  },
  {
   "cell_type": "code",
   "execution_count": 7,
   "id": "5627b084-472f-4728-8e82-d97c4b87d0d3",
   "metadata": {},
   "outputs": [],
   "source": [
    "# Testing the installation of numpy\n",
    "import numpy as np"
   ]
  },
  {
   "cell_type": "code",
   "execution_count": 8,
   "id": "49fe16c1-51b7-4090-905b-86db4521dc6a",
   "metadata": {},
   "outputs": [],
   "source": [
    "# Testing the installation of datetime\n",
    "import datetime"
   ]
  },
  {
   "cell_type": "code",
   "execution_count": 9,
   "id": "89c9dd94-54df-4869-870d-15cec364ef78",
   "metadata": {},
   "outputs": [],
   "source": [
    "# Testing the installation of pandas\n",
    "import pandas as pd"
   ]
  },
  {
   "cell_type": "code",
   "execution_count": 10,
   "id": "063ceaa7-f39a-426d-a754-1f27a657327e",
   "metadata": {},
   "outputs": [],
   "source": [
    "# Testing the installation of xarray\n",
    "import xarray as xr"
   ]
  },
  {
   "cell_type": "code",
   "execution_count": 11,
   "id": "29d01c99-fb34-42b8-8a8f-b6871c51a7c7",
   "metadata": {},
   "outputs": [],
   "source": [
    "# Testing the installation of matplotlib\n",
    "import matplotlib.pyplot as plt"
   ]
  },
  {
   "cell_type": "code",
   "execution_count": 14,
   "id": "e4935b09-e8c1-4f30-9bfd-c963b51db5f4",
   "metadata": {},
   "outputs": [],
   "source": [
    "# Testing the installation of cartopy\n",
    "import cartopy\n",
    "import cartopy.crs as crs"
   ]
  },
  {
   "cell_type": "markdown",
   "id": "a8a8ebe6-a243-4976-9824-eb975ae43297",
   "metadata": {},
   "source": [
    "### 4) Generate link to share it"
   ]
  },
  {
   "cell_type": "code",
   "execution_count": 1,
   "id": "667d417e-e7af-4783-bee8-36c7cad15893",
   "metadata": {},
   "outputs": [
    {
     "name": "stdout",
     "output_type": "stream",
     "text": [
      "{'Ex6': 'https://noto.epfl.ch/hub/user-redirect/git-pull?repo=https%3A%2F%2Fgithub.com%2Fltelab%2FRS2022&urlpath=lab%2Ftree%2FRS2022%2Fexercice_6%2FExercise_6.ipynb%3Fautodecode&branch=main&depth=1', 'Ex7': 'https://noto.epfl.ch/hub/user-redirect/git-pull?repo=https%3A%2F%2Fgithub.com%2Fltelab%2FRS2022&urlpath=lab%2Ftree%2FRS2022%2Fexercice_7%2FExercise_7.ipynb%3Fautodecode&branch=main&depth=1'}\n"
     ]
    }
   ],
   "source": [
    "#!/usr/bin/env python3\n",
    "# -*- coding: utf-8 -*-\n",
    "\"\"\"\n",
    "Created on Wed Apr 13 11:15:11 2022\n",
    "@author: ghiggi\n",
    "\"\"\"\n",
    "# Documentation \n",
    "# - https://jupyterhub.github.io/nbgitpuller/\n",
    "# - https://jupyterhub.github.io/nbgitpuller/link.html\n",
    "# - https://github.com/yuvipanda/nbgitpuller-link-generator-webextension\n",
    "# - https://noto.epfl.ch/user/ch-epfl-224850/lab/workspaces/auto-E/tree/noto-poc-notebooks/HowTos/ShareNotebooks/3-ShareNotebooks-ShareURL.ipynb\n",
    "from nbgitpuller_link import Link\n",
    "git_https_url = \"https://github.com/ltelab/RS2022\"\n",
    "dict_notebooks = {\"Ex6\": \"exercice_6/Exercise_6.ipynb\",\n",
    "                  \"Ex7\": \"exercice_7/Exercise_7.ipynb\",\n",
    "                 }\n",
    "# Creation of the link\n",
    "dict_noto_link = {}\n",
    "for key, path_to_notebook in dict_notebooks.items():\n",
    "    # Retrieve basic url \n",
    "    linker = Link(\n",
    "        jupyterhub_url = \"https://noto.epfl.ch\",\n",
    "        branch = \"main\",\n",
    "        interface = \"lab\",\n",
    "        repository_url = git_https_url,\n",
    "        launch_path = path_to_notebook,\n",
    "        )\n",
    "    # Set cloning depth to 1\n",
    "    url = linker.link + \"&depth=1\"\n",
    "    \n",
    "    # Add url to dictionary \n",
    "    dict_noto_link[key] = url\n",
    "# Display of the link\n",
    "print(dict_noto_link)"
   ]
  },
  {
   "cell_type": "code",
   "execution_count": null,
   "id": "fe925975-701f-4315-8191-38e0f7ef0e98",
   "metadata": {},
   "outputs": [],
   "source": []
  }
 ],
 "metadata": {
  "kernelspec": {
   "display_name": "Python",
   "language": "python",
   "name": "python3"
  },
  "language_info": {
   "codemirror_mode": {
    "name": "ipython",
    "version": 3
   },
   "file_extension": ".py",
   "mimetype": "text/x-python",
   "name": "python",
   "nbconvert_exporter": "python",
   "pygments_lexer": "ipython3",
   "version": "3.8.10"
  }
 },
 "nbformat": 4,
 "nbformat_minor": 5
}
